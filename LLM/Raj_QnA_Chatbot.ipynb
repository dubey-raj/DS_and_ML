{
  "cells": [
    {
      "cell_type": "code",
      "execution_count": 15,
      "metadata": {
        "colab": {
          "base_uri": "https://localhost:8080/"
        },
        "id": "eSxNqQRpYwC-",
        "outputId": "287d592c-6c57-4c49-c528-c499478c3d6d"
      },
      "outputs": [
        {
          "name": "stdout",
          "output_type": "stream",
          "text": [
            "Requirement already satisfied: langchain in /usr/local/lib/python3.10/dist-packages (0.2.9)\n",
            "Requirement already satisfied: PyYAML>=5.3 in /usr/local/lib/python3.10/dist-packages (from langchain) (6.0.1)\n",
            "Requirement already satisfied: SQLAlchemy<3,>=1.4 in /usr/local/lib/python3.10/dist-packages (from langchain) (2.0.31)\n",
            "Requirement already satisfied: aiohttp<4.0.0,>=3.8.3 in /usr/local/lib/python3.10/dist-packages (from langchain) (3.9.5)\n",
            "Requirement already satisfied: async-timeout<5.0.0,>=4.0.0 in /usr/local/lib/python3.10/dist-packages (from langchain) (4.0.3)\n",
            "Requirement already satisfied: langchain-core<0.3.0,>=0.2.20 in /usr/local/lib/python3.10/dist-packages (from langchain) (0.2.21)\n",
            "Requirement already satisfied: langchain-text-splitters<0.3.0,>=0.2.0 in /usr/local/lib/python3.10/dist-packages (from langchain) (0.2.2)\n",
            "Requirement already satisfied: langsmith<0.2.0,>=0.1.17 in /usr/local/lib/python3.10/dist-packages (from langchain) (0.1.90)\n",
            "Requirement already satisfied: numpy<2,>=1 in /usr/local/lib/python3.10/dist-packages (from langchain) (1.25.2)\n",
            "Requirement already satisfied: pydantic<3,>=1 in /usr/local/lib/python3.10/dist-packages (from langchain) (2.8.2)\n",
            "Requirement already satisfied: requests<3,>=2 in /usr/local/lib/python3.10/dist-packages (from langchain) (2.31.0)\n",
            "Requirement already satisfied: tenacity!=8.4.0,<9.0.0,>=8.1.0 in /usr/local/lib/python3.10/dist-packages (from langchain) (8.5.0)\n",
            "Requirement already satisfied: aiosignal>=1.1.2 in /usr/local/lib/python3.10/dist-packages (from aiohttp<4.0.0,>=3.8.3->langchain) (1.3.1)\n",
            "Requirement already satisfied: attrs>=17.3.0 in /usr/local/lib/python3.10/dist-packages (from aiohttp<4.0.0,>=3.8.3->langchain) (23.2.0)\n",
            "Requirement already satisfied: frozenlist>=1.1.1 in /usr/local/lib/python3.10/dist-packages (from aiohttp<4.0.0,>=3.8.3->langchain) (1.4.1)\n",
            "Requirement already satisfied: multidict<7.0,>=4.5 in /usr/local/lib/python3.10/dist-packages (from aiohttp<4.0.0,>=3.8.3->langchain) (6.0.5)\n",
            "Requirement already satisfied: yarl<2.0,>=1.0 in /usr/local/lib/python3.10/dist-packages (from aiohttp<4.0.0,>=3.8.3->langchain) (1.9.4)\n",
            "Requirement already satisfied: jsonpatch<2.0,>=1.33 in /usr/local/lib/python3.10/dist-packages (from langchain-core<0.3.0,>=0.2.20->langchain) (1.33)\n",
            "Requirement already satisfied: packaging<25,>=23.2 in /usr/local/lib/python3.10/dist-packages (from langchain-core<0.3.0,>=0.2.20->langchain) (24.1)\n",
            "Requirement already satisfied: orjson<4.0.0,>=3.9.14 in /usr/local/lib/python3.10/dist-packages (from langsmith<0.2.0,>=0.1.17->langchain) (3.10.6)\n",
            "Requirement already satisfied: annotated-types>=0.4.0 in /usr/local/lib/python3.10/dist-packages (from pydantic<3,>=1->langchain) (0.7.0)\n",
            "Requirement already satisfied: pydantic-core==2.20.1 in /usr/local/lib/python3.10/dist-packages (from pydantic<3,>=1->langchain) (2.20.1)\n",
            "Requirement already satisfied: typing-extensions>=4.6.1 in /usr/local/lib/python3.10/dist-packages (from pydantic<3,>=1->langchain) (4.12.2)\n",
            "Requirement already satisfied: charset-normalizer<4,>=2 in /usr/local/lib/python3.10/dist-packages (from requests<3,>=2->langchain) (3.3.2)\n",
            "Requirement already satisfied: idna<4,>=2.5 in /usr/local/lib/python3.10/dist-packages (from requests<3,>=2->langchain) (3.7)\n",
            "Requirement already satisfied: urllib3<3,>=1.21.1 in /usr/local/lib/python3.10/dist-packages (from requests<3,>=2->langchain) (2.0.7)\n",
            "Requirement already satisfied: certifi>=2017.4.17 in /usr/local/lib/python3.10/dist-packages (from requests<3,>=2->langchain) (2024.7.4)\n",
            "Requirement already satisfied: greenlet!=0.4.17 in /usr/local/lib/python3.10/dist-packages (from SQLAlchemy<3,>=1.4->langchain) (3.0.3)\n",
            "Requirement already satisfied: jsonpointer>=1.9 in /usr/local/lib/python3.10/dist-packages (from jsonpatch<2.0,>=1.33->langchain-core<0.3.0,>=0.2.20->langchain) (3.0.0)\n",
            "Requirement already satisfied: pypdf in /usr/local/lib/python3.10/dist-packages (4.3.0)\n",
            "Requirement already satisfied: typing_extensions>=4.0 in /usr/local/lib/python3.10/dist-packages (from pypdf) (4.12.2)\n",
            "Requirement already satisfied: sentence_transformers in /usr/local/lib/python3.10/dist-packages (3.0.1)\n",
            "Requirement already satisfied: transformers<5.0.0,>=4.34.0 in /usr/local/lib/python3.10/dist-packages (from sentence_transformers) (4.42.4)\n",
            "Requirement already satisfied: tqdm in /usr/local/lib/python3.10/dist-packages (from sentence_transformers) (4.66.4)\n",
            "Requirement already satisfied: torch>=1.11.0 in /usr/local/lib/python3.10/dist-packages (from sentence_transformers) (2.3.1+cu121)\n",
            "Requirement already satisfied: numpy in /usr/local/lib/python3.10/dist-packages (from sentence_transformers) (1.25.2)\n",
            "Requirement already satisfied: scikit-learn in /usr/local/lib/python3.10/dist-packages (from sentence_transformers) (1.2.2)\n",
            "Requirement already satisfied: scipy in /usr/local/lib/python3.10/dist-packages (from sentence_transformers) (1.11.4)\n",
            "Requirement already satisfied: huggingface-hub>=0.15.1 in /usr/local/lib/python3.10/dist-packages (from sentence_transformers) (0.23.4)\n",
            "Requirement already satisfied: Pillow in /usr/local/lib/python3.10/dist-packages (from sentence_transformers) (9.4.0)\n",
            "Requirement already satisfied: filelock in /usr/local/lib/python3.10/dist-packages (from huggingface-hub>=0.15.1->sentence_transformers) (3.15.4)\n",
            "Requirement already satisfied: fsspec>=2023.5.0 in /usr/local/lib/python3.10/dist-packages (from huggingface-hub>=0.15.1->sentence_transformers) (2023.6.0)\n",
            "Requirement already satisfied: packaging>=20.9 in /usr/local/lib/python3.10/dist-packages (from huggingface-hub>=0.15.1->sentence_transformers) (24.1)\n",
            "Requirement already satisfied: pyyaml>=5.1 in /usr/local/lib/python3.10/dist-packages (from huggingface-hub>=0.15.1->sentence_transformers) (6.0.1)\n",
            "Requirement already satisfied: requests in /usr/local/lib/python3.10/dist-packages (from huggingface-hub>=0.15.1->sentence_transformers) (2.31.0)\n",
            "Requirement already satisfied: typing-extensions>=3.7.4.3 in /usr/local/lib/python3.10/dist-packages (from huggingface-hub>=0.15.1->sentence_transformers) (4.12.2)\n",
            "Requirement already satisfied: sympy in /usr/local/lib/python3.10/dist-packages (from torch>=1.11.0->sentence_transformers) (1.13.0)\n",
            "Requirement already satisfied: networkx in /usr/local/lib/python3.10/dist-packages (from torch>=1.11.0->sentence_transformers) (3.3)\n",
            "Requirement already satisfied: jinja2 in /usr/local/lib/python3.10/dist-packages (from torch>=1.11.0->sentence_transformers) (3.1.4)\n",
            "Requirement already satisfied: nvidia-cuda-nvrtc-cu12==12.1.105 in /usr/local/lib/python3.10/dist-packages (from torch>=1.11.0->sentence_transformers) (12.1.105)\n",
            "Requirement already satisfied: nvidia-cuda-runtime-cu12==12.1.105 in /usr/local/lib/python3.10/dist-packages (from torch>=1.11.0->sentence_transformers) (12.1.105)\n",
            "Requirement already satisfied: nvidia-cuda-cupti-cu12==12.1.105 in /usr/local/lib/python3.10/dist-packages (from torch>=1.11.0->sentence_transformers) (12.1.105)\n",
            "Requirement already satisfied: nvidia-cudnn-cu12==8.9.2.26 in /usr/local/lib/python3.10/dist-packages (from torch>=1.11.0->sentence_transformers) (8.9.2.26)\n",
            "Requirement already satisfied: nvidia-cublas-cu12==12.1.3.1 in /usr/local/lib/python3.10/dist-packages (from torch>=1.11.0->sentence_transformers) (12.1.3.1)\n",
            "Requirement already satisfied: nvidia-cufft-cu12==11.0.2.54 in /usr/local/lib/python3.10/dist-packages (from torch>=1.11.0->sentence_transformers) (11.0.2.54)\n",
            "Requirement already satisfied: nvidia-curand-cu12==10.3.2.106 in /usr/local/lib/python3.10/dist-packages (from torch>=1.11.0->sentence_transformers) (10.3.2.106)\n",
            "Requirement already satisfied: nvidia-cusolver-cu12==11.4.5.107 in /usr/local/lib/python3.10/dist-packages (from torch>=1.11.0->sentence_transformers) (11.4.5.107)\n",
            "Requirement already satisfied: nvidia-cusparse-cu12==12.1.0.106 in /usr/local/lib/python3.10/dist-packages (from torch>=1.11.0->sentence_transformers) (12.1.0.106)\n",
            "Requirement already satisfied: nvidia-nccl-cu12==2.20.5 in /usr/local/lib/python3.10/dist-packages (from torch>=1.11.0->sentence_transformers) (2.20.5)\n",
            "Requirement already satisfied: nvidia-nvtx-cu12==12.1.105 in /usr/local/lib/python3.10/dist-packages (from torch>=1.11.0->sentence_transformers) (12.1.105)\n",
            "Requirement already satisfied: triton==2.3.1 in /usr/local/lib/python3.10/dist-packages (from torch>=1.11.0->sentence_transformers) (2.3.1)\n",
            "Requirement already satisfied: nvidia-nvjitlink-cu12 in /usr/local/lib/python3.10/dist-packages (from nvidia-cusolver-cu12==11.4.5.107->torch>=1.11.0->sentence_transformers) (12.5.82)\n",
            "Requirement already satisfied: regex!=2019.12.17 in /usr/local/lib/python3.10/dist-packages (from transformers<5.0.0,>=4.34.0->sentence_transformers) (2024.5.15)\n",
            "Requirement already satisfied: safetensors>=0.4.1 in /usr/local/lib/python3.10/dist-packages (from transformers<5.0.0,>=4.34.0->sentence_transformers) (0.4.3)\n",
            "Requirement already satisfied: tokenizers<0.20,>=0.19 in /usr/local/lib/python3.10/dist-packages (from transformers<5.0.0,>=4.34.0->sentence_transformers) (0.19.1)\n",
            "Requirement already satisfied: joblib>=1.1.1 in /usr/local/lib/python3.10/dist-packages (from scikit-learn->sentence_transformers) (1.4.2)\n",
            "Requirement already satisfied: threadpoolctl>=2.0.0 in /usr/local/lib/python3.10/dist-packages (from scikit-learn->sentence_transformers) (3.5.0)\n",
            "Requirement already satisfied: MarkupSafe>=2.0 in /usr/local/lib/python3.10/dist-packages (from jinja2->torch>=1.11.0->sentence_transformers) (2.1.5)\n",
            "Requirement already satisfied: charset-normalizer<4,>=2 in /usr/local/lib/python3.10/dist-packages (from requests->huggingface-hub>=0.15.1->sentence_transformers) (3.3.2)\n",
            "Requirement already satisfied: idna<4,>=2.5 in /usr/local/lib/python3.10/dist-packages (from requests->huggingface-hub>=0.15.1->sentence_transformers) (3.7)\n",
            "Requirement already satisfied: urllib3<3,>=1.21.1 in /usr/local/lib/python3.10/dist-packages (from requests->huggingface-hub>=0.15.1->sentence_transformers) (2.0.7)\n",
            "Requirement already satisfied: certifi>=2017.4.17 in /usr/local/lib/python3.10/dist-packages (from requests->huggingface-hub>=0.15.1->sentence_transformers) (2024.7.4)\n",
            "Requirement already satisfied: mpmath<1.4,>=1.1.0 in /usr/local/lib/python3.10/dist-packages (from sympy->torch>=1.11.0->sentence_transformers) (1.3.0)\n",
            "Requirement already satisfied: llama-cpp-python in /usr/local/lib/python3.10/dist-packages (0.2.82)\n",
            "Requirement already satisfied: typing-extensions>=4.5.0 in /usr/local/lib/python3.10/dist-packages (from llama-cpp-python) (4.12.2)\n",
            "Requirement already satisfied: numpy>=1.20.0 in /usr/local/lib/python3.10/dist-packages (from llama-cpp-python) (1.25.2)\n",
            "Requirement already satisfied: diskcache>=5.6.1 in /usr/local/lib/python3.10/dist-packages (from llama-cpp-python) (5.6.3)\n",
            "Requirement already satisfied: jinja2>=2.11.3 in /usr/local/lib/python3.10/dist-packages (from llama-cpp-python) (3.1.4)\n",
            "Requirement already satisfied: MarkupSafe>=2.0 in /usr/local/lib/python3.10/dist-packages (from jinja2>=2.11.3->llama-cpp-python) (2.1.5)\n",
            "Requirement already satisfied: huggingface_hub in /usr/local/lib/python3.10/dist-packages (0.23.4)\n",
            "Requirement already satisfied: filelock in /usr/local/lib/python3.10/dist-packages (from huggingface_hub) (3.15.4)\n",
            "Requirement already satisfied: fsspec>=2023.5.0 in /usr/local/lib/python3.10/dist-packages (from huggingface_hub) (2023.6.0)\n",
            "Requirement already satisfied: packaging>=20.9 in /usr/local/lib/python3.10/dist-packages (from huggingface_hub) (24.1)\n",
            "Requirement already satisfied: pyyaml>=5.1 in /usr/local/lib/python3.10/dist-packages (from huggingface_hub) (6.0.1)\n",
            "Requirement already satisfied: requests in /usr/local/lib/python3.10/dist-packages (from huggingface_hub) (2.31.0)\n",
            "Requirement already satisfied: tqdm>=4.42.1 in /usr/local/lib/python3.10/dist-packages (from huggingface_hub) (4.66.4)\n",
            "Requirement already satisfied: typing-extensions>=3.7.4.3 in /usr/local/lib/python3.10/dist-packages (from huggingface_hub) (4.12.2)\n",
            "Requirement already satisfied: charset-normalizer<4,>=2 in /usr/local/lib/python3.10/dist-packages (from requests->huggingface_hub) (3.3.2)\n",
            "Requirement already satisfied: idna<4,>=2.5 in /usr/local/lib/python3.10/dist-packages (from requests->huggingface_hub) (3.7)\n",
            "Requirement already satisfied: urllib3<3,>=1.21.1 in /usr/local/lib/python3.10/dist-packages (from requests->huggingface_hub) (2.0.7)\n",
            "Requirement already satisfied: certifi>=2017.4.17 in /usr/local/lib/python3.10/dist-packages (from requests->huggingface_hub) (2024.7.4)\n"
          ]
        }
      ],
      "source": [
        "!pip install langchain\n",
        "!pip install pypdf\n",
        "!pip install sentence_transformers\n",
        "!pip install llama-cpp-python\n",
        "!pip install huggingface_hub\n",
        "!pip install --upgrade --quiet langchain-pinecone langchain langchain-community langchain-core"
      ]
    },
    {
      "cell_type": "code",
      "execution_count": 16,
      "metadata": {
        "id": "Mw_RZdCqwpsr"
      },
      "outputs": [],
      "source": [
        "from langchain.document_loaders import PyPDFLoader\n",
        "from langchain.text_splitter import RecursiveCharacterTextSplitter\n",
        "from langchain.embeddings import HuggingFaceEmbeddings\n",
        "from langchain_pinecone import Pinecone\n",
        "from langchain.chains import RetrievalQAWithSourcesChain\n",
        "import os"
      ]
    },
    {
      "cell_type": "code",
      "execution_count": 17,
      "metadata": {
        "id": "zrDQGC9Q41ob"
      },
      "outputs": [],
      "source": [
        "# Import required libraries to run llm locally\n",
        "\n",
        "from langchain.llms import LlamaCpp\n",
        "from huggingface_hub import hf_hub_download"
      ]
    },
    {
      "cell_type": "code",
      "execution_count": 18,
      "metadata": {
        "id": "LMOaqln6fent"
      },
      "outputs": [],
      "source": [
        "#Setup the Environment\n",
        "os.environ[\"HUGGINGFACEHUB_API_TOKEN\"] = \"\"\n",
        "os.environ[\"PINECONE_API_KEY\"] = \"\""
      ]
    },
    {
      "cell_type": "code",
      "execution_count": 19,
      "metadata": {
        "id": "dq5KgGxe4sLJ"
      },
      "outputs": [],
      "source": [
        "model_name_or_path = \"TheBloke/TinyLlama-1.1B-Chat-v1.0-GGUF\"\n",
        "model_basename = \"tinyllama-1.1b-chat-v1.0.Q5_K_M.gguf\"\n",
        "model_path = hf_hub_download(repo_id=model_name_or_path, filename=model_basename)"
      ]
    },
    {
      "cell_type": "code",
      "execution_count": 20,
      "metadata": {
        "collapsed": true,
        "id": "Nj8QDG6Q6zlY"
      },
      "outputs": [],
      "source": [
        "# Loading model\n",
        "\n",
        "llm = LlamaCpp(\n",
        "    model_path=model_path,\n",
        "    max_tokens=512,\n",
        "    temperature=0.8,\n",
        "    n_ctx=5000,\n",
        "    streaming = True,\n",
        "    verbose=False,\n",
        ")"
      ]
    },
    {
      "cell_type": "code",
      "execution_count": 21,
      "metadata": {
        "id": "k_6Ki2h8is0L"
      },
      "outputs": [],
      "source": [
        "# initialize pinecone\n",
        "\n",
        "Pinecone.api_key = os.environ.get(\"PINECONE_API_KEY\")\n",
        "index_name = \"nagp\""
      ]
    },
    {
      "cell_type": "code",
      "execution_count": 22,
      "metadata": {
        "colab": {
          "base_uri": "https://localhost:8080/"
        },
        "collapsed": true,
        "id": "iwd0eVtLx81C",
        "outputId": "c5bfc713-2e72-4544-a964-f4f9c68234ba"
      },
      "outputs": [
        {
          "data": {
            "text/plain": [
              "32"
            ]
          },
          "execution_count": 22,
          "metadata": {},
          "output_type": "execute_result"
        }
      ],
      "source": [
        "# Load the document\n",
        "\n",
        "loader = PyPDFLoader(\"/content/Assignment_Support_Document.pdf\")\n",
        "data = loader.load()\n",
        "len(data)"
      ]
    },
    {
      "cell_type": "code",
      "execution_count": 23,
      "metadata": {
        "colab": {
          "base_uri": "https://localhost:8080/"
        },
        "id": "pykB899Iy6OC",
        "outputId": "3b34db2f-31f6-4a10-e6f1-9ecb6418532d"
      },
      "outputs": [
        {
          "name": "stdout",
          "output_type": "stream",
          "text": [
            "87\n"
          ]
        },
        {
          "data": {
            "text/plain": [
              "Document(metadata={'source': '/content/Assignment_Support_Document.pdf', 'page': 0}, page_content='GOVERNMENT OF INDIA\\nINTERIM BUDGET 2024-2025\\nSPEECH\\nOF\\nNIRMALA SITHARAMAN\\nMINISTER OF FINANCE\\nFebruary 1,  2024')"
            ]
          },
          "execution_count": 23,
          "metadata": {},
          "output_type": "execute_result"
        }
      ],
      "source": [
        "#Split the Text into Chunks\n",
        "\n",
        "text_splitter=RecursiveCharacterTextSplitter(chunk_size=500, chunk_overlap=0)\n",
        "docs=text_splitter.split_documents(data)\n",
        "print(len(docs))\n",
        "docs[0]"
      ]
    },
    {
      "cell_type": "code",
      "execution_count": 24,
      "metadata": {
        "collapsed": true,
        "id": "6D14ifvzijoy"
      },
      "outputs": [],
      "source": [
        "# Generate the Embeddings for data retrieved from pdf document\n",
        "\n",
        "embeddings=HuggingFaceEmbeddings(model_name='sentence-transformers/all-MiniLM-L6-v2')"
      ]
    },
    {
      "cell_type": "code",
      "execution_count": 25,
      "metadata": {
        "id": "l1m2MnSOq3Kl"
      },
      "outputs": [],
      "source": [
        "# Store embeddings into pinecone vector DB\n",
        "\n",
        "docsearch=Pinecone.from_documents(documents= docs, embedding=embeddings, index_name = index_name)"
      ]
    },
    {
      "cell_type": "code",
      "execution_count": 26,
      "metadata": {
        "colab": {
          "base_uri": "https://localhost:8080/"
        },
        "collapsed": true,
        "id": "-PbaZIiwx1gb",
        "outputId": "9aca97fb-6ade-4563-87f3-c856ca65dc4c"
      },
      "outputs": [
        {
          "data": {
            "text/plain": [
              "[Document(metadata={'page': 28.0, 'source': '/content/Assignment_Support_Document.pdf'}, page_content='25 \\n Part B  \\nHon’ble Speaker Sir,  \\nDirect taxes  \\n87. Over the last ten years, the direct tax collections have \\nmore than trebled and the return filers swelled to 2.4 times.  \\nI would like to assure the taxpayers that their contributions have \\nbeen used wisely for the development of the country and \\nwelfare of its people. I appreciate the tax payers for their \\nsupport.  \\n88. The Government has reduced and rationalized tax rates.'),\n",
              " Document(metadata={'page': 30.0, 'source': '/content/Assignment_Support_Document.pdf'}, page_content='ease of living and ease of doing business, I wish to make an \\nannouncement to improve tax payer services. There are a large \\nnumber of petty, non -verified, non -reconciled or disputed direct \\ntax d emands, many of them dating as far back as the year 1962, \\nwhich continue to remain on the books, causing anxiety to \\nhonest tax payers and hindering refunds of subsequent years.  \\nI propose to withdraw such outstanding direct tax demands up'),\n",
              " Document(metadata={'page': 28.0, 'source': '/content/Assignment_Support_Document.pdf'}, page_content='Under the new tax scheme, there  is now no tax liability for tax \\npayers with income up to ₹ 7 lakh, up from ₹ 2.2 lakh in the \\nfinancial year 2013 -14. The threshold for presumptive taxation \\nfor retail businesses was increased from ₹ 2 crore to ₹ 3 crore. \\nSimilarly, the threshold for professionals eligible for presumptive \\ntaxation was increased from ₹ 50 lakh to  ₹ 75 Lakh.  Also, \\ncorporate tax rate was decreased from 30 per cent to 22 per cent'),\n",
              " Document(metadata={'page': 28.0, 'source': '/content/Assignment_Support_Document.pdf'}, page_content='for existing domestic companies and to 15 per cent for certain \\nnew manufacturing companies.  \\n89. In the last five years, our focus has been to improve  \\ntax-payer services. The age -old jurisdiction -based assessment \\nsystem was transformed with the introduction of Faceless \\nAssessment and Appeal, thereby imparting greater efficiency, \\ntransparency and accoun tability. Introduction of updated income \\ntax returns, a new Form 26AS and prefilling of tax returns have')]"
            ]
          },
          "execution_count": 26,
          "metadata": {},
          "output_type": "execute_result"
        }
      ],
      "source": [
        "# Similarity search from pinecone DB\n",
        "query = \"what is Direct taxes\"\n",
        "resp = docsearch.similarity_search(query)\n",
        "resp"
      ]
    },
    {
      "cell_type": "code",
      "execution_count": 27,
      "metadata": {
        "collapsed": true,
        "id": "LQNXll3_-gNw"
      },
      "outputs": [],
      "source": [
        "# Create a chain to query through LLM from pinecone\n",
        "\n",
        "chain=RetrievalQAWithSourcesChain.from_llm(llm=llm, retriever=docsearch.as_retriever())"
      ]
    },
    {
      "cell_type": "code",
      "execution_count": 28,
      "metadata": {
        "colab": {
          "base_uri": "https://localhost:8080/"
        },
        "id": "qZIC0iz7KyEk",
        "outputId": "7c183246-b5ab-467c-b47b-93ac2db1425d"
      },
      "outputs": [
        {
          "name": "stdout",
          "output_type": "stream",
          "text": [
            "\u001b[32;1m\u001b[1;3m[chain/start]\u001b[0m \u001b[1m[chain:RetrievalQAWithSourcesChain] Entering Chain run with input:\n",
            "\u001b[0m{\n",
            "  \"question\": \"what is Direct taxes\"\n",
            "}\n",
            "\u001b[32;1m\u001b[1;3m[chain/start]\u001b[0m \u001b[1m[chain:RetrievalQAWithSourcesChain > chain:MapReduceDocumentsChain] Entering Chain run with input:\n",
            "\u001b[0m[inputs]\n",
            "\u001b[32;1m\u001b[1;3m[chain/start]\u001b[0m \u001b[1m[chain:RetrievalQAWithSourcesChain > chain:MapReduceDocumentsChain > chain:LLMChain] Entering Chain run with input:\n",
            "\u001b[0m{\n",
            "  \"input_list\": [\n",
            "    {\n",
            "      \"context\": \"25 \\n Part B  \\nHon’ble Speaker Sir,  \\nDirect taxes  \\n87. Over the last ten years, the direct tax collections have \\nmore than trebled and the return filers swelled to 2.4 times.  \\nI would like to assure the taxpayers that their contributions have \\nbeen used wisely for the development of the country and \\nwelfare of its people. I appreciate the tax payers for their \\nsupport.  \\n88. The Government has reduced and rationalized tax rates.\",\n",
            "      \"question\": \"what is Direct taxes\"\n",
            "    },\n",
            "    {\n",
            "      \"context\": \"ease of living and ease of doing business, I wish to make an \\nannouncement to improve tax payer services. There are a large \\nnumber of petty, non -verified, non -reconciled or disputed direct \\ntax d emands, many of them dating as far back as the year 1962, \\nwhich continue to remain on the books, causing anxiety to \\nhonest tax payers and hindering refunds of subsequent years.  \\nI propose to withdraw such outstanding direct tax demands up\",\n",
            "      \"question\": \"what is Direct taxes\"\n",
            "    },\n",
            "    {\n",
            "      \"context\": \"Under the new tax scheme, there  is now no tax liability for tax \\npayers with income up to ₹ 7 lakh, up from ₹ 2.2 lakh in the \\nfinancial year 2013 -14. The threshold for presumptive taxation \\nfor retail businesses was increased from ₹ 2 crore to ₹ 3 crore. \\nSimilarly, the threshold for professionals eligible for presumptive \\ntaxation was increased from ₹ 50 lakh to  ₹ 75 Lakh.  Also, \\ncorporate tax rate was decreased from 30 per cent to 22 per cent\",\n",
            "      \"question\": \"what is Direct taxes\"\n",
            "    },\n",
            "    {\n",
            "      \"context\": \"for existing domestic companies and to 15 per cent for certain \\nnew manufacturing companies.  \\n89. In the last five years, our focus has been to improve  \\ntax-payer services. The age -old jurisdiction -based assessment \\nsystem was transformed with the introduction of Faceless \\nAssessment and Appeal, thereby imparting greater efficiency, \\ntransparency and accoun tability. Introduction of updated income \\ntax returns, a new Form 26AS and prefilling of tax returns have\",\n",
            "      \"question\": \"what is Direct taxes\"\n",
            "    }\n",
            "  ]\n",
            "}\n",
            "\u001b[32;1m\u001b[1;3m[llm/start]\u001b[0m \u001b[1m[chain:RetrievalQAWithSourcesChain > chain:MapReduceDocumentsChain > chain:LLMChain > llm:LlamaCpp] Entering LLM run with input:\n",
            "\u001b[0m{\n",
            "  \"prompts\": [\n",
            "    \"Use the following portion of a long document to see if any of the text is relevant to answer the question. \\nReturn any relevant text verbatim.\\n25 \\n Part B  \\nHon’ble Speaker Sir,  \\nDirect taxes  \\n87. Over the last ten years, the direct tax collections have \\nmore than trebled and the return filers swelled to 2.4 times.  \\nI would like to assure the taxpayers that their contributions have \\nbeen used wisely for the development of the country and \\nwelfare of its people. I appreciate the tax payers for their \\nsupport.  \\n88. The Government has reduced and rationalized tax rates.\\nQuestion: what is Direct taxes\\nRelevant text, if any:\"\n",
            "  ]\n",
            "}\n",
            "\u001b[32;1m\u001b[1;3m[llm/start]\u001b[0m \u001b[1m[chain:RetrievalQAWithSourcesChain > chain:MapReduceDocumentsChain > chain:LLMChain > llm:LlamaCpp] Entering LLM run with input:\n",
            "\u001b[0m{\n",
            "  \"prompts\": [\n",
            "    \"Use the following portion of a long document to see if any of the text is relevant to answer the question. \\nReturn any relevant text verbatim.\\nease of living and ease of doing business, I wish to make an \\nannouncement to improve tax payer services. There are a large \\nnumber of petty, non -verified, non -reconciled or disputed direct \\ntax d emands, many of them dating as far back as the year 1962, \\nwhich continue to remain on the books, causing anxiety to \\nhonest tax payers and hindering refunds of subsequent years.  \\nI propose to withdraw such outstanding direct tax demands up\\nQuestion: what is Direct taxes\\nRelevant text, if any:\"\n",
            "  ]\n",
            "}\n",
            "\u001b[32;1m\u001b[1;3m[llm/start]\u001b[0m \u001b[1m[chain:RetrievalQAWithSourcesChain > chain:MapReduceDocumentsChain > chain:LLMChain > llm:LlamaCpp] Entering LLM run with input:\n",
            "\u001b[0m{\n",
            "  \"prompts\": [\n",
            "    \"Use the following portion of a long document to see if any of the text is relevant to answer the question. \\nReturn any relevant text verbatim.\\nUnder the new tax scheme, there  is now no tax liability for tax \\npayers with income up to ₹ 7 lakh, up from ₹ 2.2 lakh in the \\nfinancial year 2013 -14. The threshold for presumptive taxation \\nfor retail businesses was increased from ₹ 2 crore to ₹ 3 crore. \\nSimilarly, the threshold for professionals eligible for presumptive \\ntaxation was increased from ₹ 50 lakh to  ₹ 75 Lakh.  Also, \\ncorporate tax rate was decreased from 30 per cent to 22 per cent\\nQuestion: what is Direct taxes\\nRelevant text, if any:\"\n",
            "  ]\n",
            "}\n",
            "\u001b[32;1m\u001b[1;3m[llm/start]\u001b[0m \u001b[1m[chain:RetrievalQAWithSourcesChain > chain:MapReduceDocumentsChain > chain:LLMChain > llm:LlamaCpp] Entering LLM run with input:\n",
            "\u001b[0m{\n",
            "  \"prompts\": [\n",
            "    \"Use the following portion of a long document to see if any of the text is relevant to answer the question. \\nReturn any relevant text verbatim.\\nfor existing domestic companies and to 15 per cent for certain \\nnew manufacturing companies.  \\n89. In the last five years, our focus has been to improve  \\ntax-payer services. The age -old jurisdiction -based assessment \\nsystem was transformed with the introduction of Faceless \\nAssessment and Appeal, thereby imparting greater efficiency, \\ntransparency and accoun tability. Introduction of updated income \\ntax returns, a new Form 26AS and prefilling of tax returns have\\nQuestion: what is Direct taxes\\nRelevant text, if any:\"\n",
            "  ]\n",
            "}\n",
            "\u001b[36;1m\u001b[1;3m[llm/end]\u001b[0m \u001b[1m[chain:RetrievalQAWithSourcesChain > chain:MapReduceDocumentsChain > chain:LLMChain > llm:LlamaCpp] [93.37s] Exiting LLM run with output:\n",
            "\u001b[0m{\n",
            "  \"generations\": [\n",
            "    [\n",
            "      {\n",
            "        \"text\": \" Rationalization of tax rates: During last five years the direct tax collections have grown by more than 60% from ₹1.3 lakh crore in 2014-15 to ₹2.8 lakh crore in 2019-20. This has been achieved through rationalization of tax rates and reduction of indirect taxes, thereby reducing the burden on the tax payers.\\nPart C\\n26  \\n\\nClosing statement by the speaker: As I conclude my address, I would like to remind you that taxpayers are our greatest asset. Your hard earned money is being invested for the development of this nation and welfare of its people.\\n\\nThank you for attending this meeting. May God bless us all.\\n\\n(Signed) Hon’ble Speaker Sir.\\n\",\n",
            "        \"generation_info\": null,\n",
            "        \"type\": \"Generation\"\n",
            "      }\n",
            "    ]\n",
            "  ],\n",
            "  \"llm_output\": null,\n",
            "  \"run\": null\n",
            "}\n",
            "\u001b[36;1m\u001b[1;3m[llm/end]\u001b[0m \u001b[1m[chain:RetrievalQAWithSourcesChain > chain:MapReduceDocumentsChain > chain:LLMChain > llm:LlamaCpp] [93.37s] Exiting LLM run with output:\n",
            "\u001b[0m{\n",
            "  \"generations\": [\n",
            "    [\n",
            "      {\n",
            "        \"text\": \" many of them dating as far back as the year 1962, which continue to remain on the books, causing anxiety to honest tax payers and hindering refunds of subsequent years.\",\n",
            "        \"generation_info\": null,\n",
            "        \"type\": \"Generation\"\n",
            "      }\n",
            "    ]\n",
            "  ],\n",
            "  \"llm_output\": null,\n",
            "  \"run\": null\n",
            "}\n",
            "\u001b[36;1m\u001b[1;3m[llm/end]\u001b[0m \u001b[1m[chain:RetrievalQAWithSourcesChain > chain:MapReduceDocumentsChain > chain:LLMChain > llm:LlamaCpp] [93.37s] Exiting LLM run with output:\n",
            "\u001b[0m{\n",
            "  \"generations\": [\n",
            "    [\n",
            "      {\n",
            "        \"text\": \" \\\"India's corporate tax rate has been lowered by a full percentage point, and the threshold for presumptive taxation (of tax-exempt profits) has been raised to ₹ 7.5 lakh from ₹ 2.5 lakh, from the fiscal year 2013-2014.\\\"\",\n",
            "        \"generation_info\": null,\n",
            "        \"type\": \"Generation\"\n",
            "      }\n",
            "    ]\n",
            "  ],\n",
            "  \"llm_output\": null,\n",
            "  \"run\": null\n",
            "}\n",
            "\u001b[36;1m\u001b[1;3m[llm/end]\u001b[0m \u001b[1m[chain:RetrievalQAWithSourcesChain > chain:MapReduceDocumentsChain > chain:LLMChain > llm:LlamaCpp] [93.37s] Exiting LLM run with output:\n",
            "\u001b[0m{\n",
            "  \"generations\": [\n",
            "    [\n",
            "      {\n",
            "        \"text\": \" Direct taxes refer to the indirect taxes or customs duties imposed by the government on products sold in India. These taxes are levied on a product after it has been purchased, but before it reaches the consumer's hands. The total amount paid as direct taxes is known as Direct Tax Revenue.\\nIf you have not answered this question yet, then go to the next part of the questionnaire.\",\n",
            "        \"generation_info\": null,\n",
            "        \"type\": \"Generation\"\n",
            "      }\n",
            "    ]\n",
            "  ],\n",
            "  \"llm_output\": null,\n",
            "  \"run\": null\n",
            "}\n",
            "\u001b[36;1m\u001b[1;3m[chain/end]\u001b[0m \u001b[1m[chain:RetrievalQAWithSourcesChain > chain:MapReduceDocumentsChain > chain:LLMChain] [93.37s] Exiting Chain run with output:\n",
            "\u001b[0m{\n",
            "  \"outputs\": [\n",
            "    {\n",
            "      \"text\": \" Rationalization of tax rates: During last five years the direct tax collections have grown by more than 60% from ₹1.3 lakh crore in 2014-15 to ₹2.8 lakh crore in 2019-20. This has been achieved through rationalization of tax rates and reduction of indirect taxes, thereby reducing the burden on the tax payers.\\nPart C\\n26  \\n\\nClosing statement by the speaker: As I conclude my address, I would like to remind you that taxpayers are our greatest asset. Your hard earned money is being invested for the development of this nation and welfare of its people.\\n\\nThank you for attending this meeting. May God bless us all.\\n\\n(Signed) Hon’ble Speaker Sir.\\n\"\n",
            "    },\n",
            "    {\n",
            "      \"text\": \" many of them dating as far back as the year 1962, which continue to remain on the books, causing anxiety to honest tax payers and hindering refunds of subsequent years.\"\n",
            "    },\n",
            "    {\n",
            "      \"text\": \" \\\"India's corporate tax rate has been lowered by a full percentage point, and the threshold for presumptive taxation (of tax-exempt profits) has been raised to ₹ 7.5 lakh from ₹ 2.5 lakh, from the fiscal year 2013-2014.\\\"\"\n",
            "    },\n",
            "    {\n",
            "      \"text\": \" Direct taxes refer to the indirect taxes or customs duties imposed by the government on products sold in India. These taxes are levied on a product after it has been purchased, but before it reaches the consumer's hands. The total amount paid as direct taxes is known as Direct Tax Revenue.\\nIf you have not answered this question yet, then go to the next part of the questionnaire.\"\n",
            "    }\n",
            "  ]\n",
            "}\n",
            "\u001b[32;1m\u001b[1;3m[chain/start]\u001b[0m \u001b[1m[chain:RetrievalQAWithSourcesChain > chain:MapReduceDocumentsChain > chain:LLMChain] Entering Chain run with input:\n",
            "\u001b[0m{\n",
            "  \"question\": \"what is Direct taxes\",\n",
            "  \"summaries\": \"Content:  Rationalization of tax rates: During last five years the direct tax collections have grown by more than 60% from ₹1.3 lakh crore in 2014-15 to ₹2.8 lakh crore in 2019-20. This has been achieved through rationalization of tax rates and reduction of indirect taxes, thereby reducing the burden on the tax payers.\\nPart C\\n26  \\n\\nClosing statement by the speaker: As I conclude my address, I would like to remind you that taxpayers are our greatest asset. Your hard earned money is being invested for the development of this nation and welfare of its people.\\n\\nThank you for attending this meeting. May God bless us all.\\n\\n(Signed) Hon’ble Speaker Sir.\\n\\nSource: /content/Assignment_Support_Document.pdf\\n\\nContent:  many of them dating as far back as the year 1962, which continue to remain on the books, causing anxiety to honest tax payers and hindering refunds of subsequent years.\\nSource: /content/Assignment_Support_Document.pdf\\n\\nContent:  \\\"India's corporate tax rate has been lowered by a full percentage point, and the threshold for presumptive taxation (of tax-exempt profits) has been raised to ₹ 7.5 lakh from ₹ 2.5 lakh, from the fiscal year 2013-2014.\\\"\\nSource: /content/Assignment_Support_Document.pdf\\n\\nContent:  Direct taxes refer to the indirect taxes or customs duties imposed by the government on products sold in India. These taxes are levied on a product after it has been purchased, but before it reaches the consumer's hands. The total amount paid as direct taxes is known as Direct Tax Revenue.\\nIf you have not answered this question yet, then go to the next part of the questionnaire.\\nSource: /content/Assignment_Support_Document.pdf\"\n",
            "}\n",
            "\u001b[32;1m\u001b[1;3m[llm/start]\u001b[0m \u001b[1m[chain:RetrievalQAWithSourcesChain > chain:MapReduceDocumentsChain > chain:LLMChain > llm:LlamaCpp] Entering LLM run with input:\n",
            "\u001b[0m{\n",
            "  \"prompts\": [\n",
            "    \"Given the following extracted parts of a long document and a question, create a final answer with references (\\\"SOURCES\\\"). \\nIf you don't know the answer, just say that you don't know. Don't try to make up an answer.\\nALWAYS return a \\\"SOURCES\\\" part in your answer.\\n\\nQUESTION: Which state/country's law governs the interpretation of the contract?\\n=========\\nContent: This Agreement is governed by English law and the parties submit to the exclusive jurisdiction of the English courts in  relation to any dispute (contractual or non-contractual) concerning this Agreement save that either party may apply to any court for an  injunction or other relief to protect its Intellectual Property Rights.\\nSource: 28-pl\\nContent: No Waiver. Failure or delay in exercising any right or remedy under this Agreement shall not constitute a waiver of such (or any other)  right or remedy.\\n\\n11.7 Severability. The invalidity, illegality or unenforceability of any term (or part of a term) of this Agreement shall not affect the continuation  in force of the remainder of the term (if any) and this Agreement.\\n\\n11.8 No Agency. Except as expressly stated otherwise, nothing in this Agreement shall create an agency, partnership or joint venture of any  kind between the parties.\\n\\n11.9 No Third-Party Beneficiaries.\\nSource: 30-pl\\nContent: (b) if Google believes, in good faith, that the Distributor has violated or caused Google to violate any Anti-Bribery Laws (as  defined in Clause 8.5) or that such a violation is reasonably likely to occur,\\nSource: 4-pl\\n=========\\nFINAL ANSWER: This Agreement is governed by English law.\\nSOURCES: 28-pl\\n\\nQUESTION: What did the president say about Michael Jackson?\\n=========\\nContent: Madam Speaker, Madam Vice President, our First Lady and Second Gentleman. Members of Congress and the Cabinet. Justices of the Supreme Court. My fellow Americans.  \\n\\nLast year COVID-19 kept us apart. This year we are finally together again. \\n\\nTonight, we meet as Democrats Republicans and Independents. But most importantly as Americans. \\n\\nWith a duty to one another to the American people to the Constitution. \\n\\nAnd with an unwavering resolve that freedom will always triumph over tyranny. \\n\\nSix days ago, Russia’s Vladimir Putin sought to shake the foundations of the free world thinking he could make it bend to his menacing ways. But he badly miscalculated. \\n\\nHe thought he could roll into Ukraine and the world would roll over. Instead he met a wall of strength he never imagined. \\n\\nHe met the Ukrainian people. \\n\\nFrom President Zelenskyy to every Ukrainian, their fearlessness, their courage, their determination, inspires the world. \\n\\nGroups of citizens blocking tanks with their bodies. Everyone from students to retirees teachers turned soldiers defending their homeland.\\nSource: 0-pl\\nContent: And we won’t stop. \\n\\nWe have lost so much to COVID-19. Time with one another. And worst of all, so much loss of life. \\n\\nLet’s use this moment to reset. Let’s stop looking at COVID-19 as a partisan dividing line and see it for what it is: A God-awful disease.  \\n\\nLet’s stop seeing each other as enemies, and start seeing each other for who we really are: Fellow Americans.  \\n\\nWe can’t change how divided we’ve been. But we can change how we move forward—on COVID-19 and other issues we must face together. \\n\\nI recently visited the New York City Police Department days after the funerals of Officer Wilbert Mora and his partner, Officer Jason Rivera. \\n\\nThey were responding to a 9-1-1 call when a man shot and killed them with a stolen gun. \\n\\nOfficer Mora was 27 years old. \\n\\nOfficer Rivera was 22. \\n\\nBoth Dominican Americans who’d grown up on the same streets they later chose to patrol as police officers. \\n\\nI spoke with their families and told them that we are forever in debt for their sacrifice, and we will carry on their mission to restore the trust and safety every community deserves.\\nSource: 24-pl\\nContent: And a proud Ukrainian people, who have known 30 years  of independence, have repeatedly shown that they will not tolerate anyone who tries to take their country backwards.  \\n\\nTo all Americans, I will be honest with you, as I’ve always promised. A Russian dictator, invading a foreign country, has costs around the world. \\n\\nAnd I’m taking robust action to make sure the pain of our sanctions  is targeted at Russia’s economy. And I will use every tool at our disposal to protect American businesses and consumers. \\n\\nTonight, I can announce that the United States has worked with 30 other countries to release 60 Million barrels of oil from reserves around the world.  \\n\\nAmerica will lead that effort, releasing 30 Million barrels from our own Strategic Petroleum Reserve. And we stand ready to do more if necessary, unified with our allies.  \\n\\nThese steps will help blunt gas prices here at home. And I know the news about what’s happening can seem alarming. \\n\\nBut I want you to know that we are going to be okay.\\nSource: 5-pl\\nContent: More support for patients and families. \\n\\nTo get there, I call on Congress to fund ARPA-H, the Advanced Research Projects Agency for Health. \\n\\nIt’s based on DARPA—the Defense Department project that led to the Internet, GPS, and so much more.  \\n\\nARPA-H will have a singular purpose—to drive breakthroughs in cancer, Alzheimer’s, diabetes, and more. \\n\\nA unity agenda for the nation. \\n\\nWe can do this. \\n\\nMy fellow Americans—tonight , we have gathered in a sacred space—the citadel of our democracy. \\n\\nIn this Capitol, generation after generation, Americans have debated great questions amid great strife, and have done great things. \\n\\nWe have fought for freedom, expanded liberty, defeated totalitarianism and terror. \\n\\nAnd built the strongest, freest, and most prosperous nation the world has ever known. \\n\\nNow is the hour. \\n\\nOur moment of responsibility. \\n\\nOur test of resolve and conscience, of history itself. \\n\\nIt is in this moment that our character is formed. Our purpose is found. Our future is forged. \\n\\nWell I know this nation.\\nSource: 34-pl\\n=========\\nFINAL ANSWER: The president did not mention Michael Jackson.\\nSOURCES:\\n\\nQUESTION: what is Direct taxes\\n=========\\nContent:  Rationalization of tax rates: During last five years the direct tax collections have grown by more than 60% from ₹1.3 lakh crore in 2014-15 to ₹2.8 lakh crore in 2019-20. This has been achieved through rationalization of tax rates and reduction of indirect taxes, thereby reducing the burden on the tax payers.\\nPart C\\n26  \\n\\nClosing statement by the speaker: As I conclude my address, I would like to remind you that taxpayers are our greatest asset. Your hard earned money is being invested for the development of this nation and welfare of its people.\\n\\nThank you for attending this meeting. May God bless us all.\\n\\n(Signed) Hon’ble Speaker Sir.\\n\\nSource: /content/Assignment_Support_Document.pdf\\n\\nContent:  many of them dating as far back as the year 1962, which continue to remain on the books, causing anxiety to honest tax payers and hindering refunds of subsequent years.\\nSource: /content/Assignment_Support_Document.pdf\\n\\nContent:  \\\"India's corporate tax rate has been lowered by a full percentage point, and the threshold for presumptive taxation (of tax-exempt profits) has been raised to ₹ 7.5 lakh from ₹ 2.5 lakh, from the fiscal year 2013-2014.\\\"\\nSource: /content/Assignment_Support_Document.pdf\\n\\nContent:  Direct taxes refer to the indirect taxes or customs duties imposed by the government on products sold in India. These taxes are levied on a product after it has been purchased, but before it reaches the consumer's hands. The total amount paid as direct taxes is known as Direct Tax Revenue.\\nIf you have not answered this question yet, then go to the next part of the questionnaire.\\nSource: /content/Assignment_Support_Document.pdf\\n=========\\nFINAL ANSWER:\"\n",
            "  ]\n",
            "}\n",
            "\u001b[36;1m\u001b[1;3m[llm/end]\u001b[0m \u001b[1m[chain:RetrievalQAWithSourcesChain > chain:MapReduceDocumentsChain > chain:LLMChain > llm:LlamaCpp] [272.88s] Exiting LLM run with output:\n",
            "\u001b[0m{\n",
            "  \"generations\": [\n",
            "    [\n",
            "      {\n",
            "        \"text\": \" The president's words are vague and not concrete in meaning. Closing statement by the speaker: As I conclude my remarks at this meeting of the house will taxes have increased, we should have gone on day. Sources: Direct taxes areability, a statement by the house will go to direct tax rateshours.\\nindirect taxes or taxes. Parts.\\nDirect Taxes orage. And taxes. An agreement oragr invoice statements thaththe document: \\\"directly, illegaletages, and/your number of this or plasepluggage.\\nDirectly (orignable iffrage,ill: The INSTH, IL/assuming \\\"Indpress. AggE, \\\"number from Direct tax or thisagrish oragr oragr oragr.\\ndirects. Pleasees andagrestions toile, directs oragr. Igugsts foragr.\\nand statements orge orIG are: \\\"this, pleaseIII, INGAG, please, please andigrsiger, pleaseints oragragriger andagrings orgithiger/direct, addings:directsuggines andagriges.agrining, \\\"The statements,iii, butagrIIIICORGIXTIGGSFIXGRS&sing.\\n||ignesgriclegings:igs forgrinden.\\nforgrIX,grsigrRESSGINGAGGRIGGGAGGSGAGRGIXGIX orgish ofagrIXGAGIGSGagramming,ignedgeragriger anddinggedgersignedged orppingsgedsatterums shouldficangefattificages:________andicallyinglygingging.5ights forgesignesginggingsagrintsions inframnsapesheetpinningions:____factsfegmentaclesionsksnersfattRSRSimeseriesionsighedetspacesheet,gramrsingsents:[PREVERESSOWIXCTIONSGERORSctionsoriesionsumsionsionsplespondificppingsums orvolectionionsionsulesignIONS________materialionsalsgedures.<ANDORBSOURGILLOWMEPBSUREMENTIONXXXXodesponencingppingsuringsionsions &provppingdingionsionsionsuresctionsoralories orumscii materialationsgingderseriesionsctionsriumgingumsumsumsgersancesionsciesificationsicesions,wordsideheetningsentswersppersots.under:tennersidealogences\",\n",
            "        \"generation_info\": null,\n",
            "        \"type\": \"Generation\"\n",
            "      }\n",
            "    ]\n",
            "  ],\n",
            "  \"llm_output\": null,\n",
            "  \"run\": null\n",
            "}\n",
            "\u001b[36;1m\u001b[1;3m[chain/end]\u001b[0m \u001b[1m[chain:RetrievalQAWithSourcesChain > chain:MapReduceDocumentsChain > chain:LLMChain] [272.88s] Exiting Chain run with output:\n",
            "\u001b[0m{\n",
            "  \"text\": \" The president's words are vague and not concrete in meaning. Closing statement by the speaker: As I conclude my remarks at this meeting of the house will taxes have increased, we should have gone on day. Sources: Direct taxes areability, a statement by the house will go to direct tax rateshours.\\nindirect taxes or taxes. Parts.\\nDirect Taxes orage. And taxes. An agreement oragr invoice statements thaththe document: \\\"directly, illegaletages, and/your number of this or plasepluggage.\\nDirectly (orignable iffrage,ill: The INSTH, IL/assuming \\\"Indpress. AggE, \\\"number from Direct tax or thisagrish oragr oragr oragr.\\ndirects. Pleasees andagrestions toile, directs oragr. Igugsts foragr.\\nand statements orge orIG are: \\\"this, pleaseIII, INGAG, please, please andigrsiger, pleaseints oragragriger andagrings orgithiger/direct, addings:directsuggines andagriges.agrining, \\\"The statements,iii, butagrIIIICORGIXTIGGSFIXGRS&sing.\\n||ignesgriclegings:igs forgrinden.\\nforgrIX,grsigrRESSGINGAGGRIGGGAGGSGAGRGIXGIX orgish ofagrIXGAGIGSGagramming,ignedgeragriger anddinggedgersignedged orppingsgedsatterums shouldficangefattificages:________andicallyinglygingging.5ights forgesignesginggingsagrintsions inframnsapesheetpinningions:____factsfegmentaclesionsksnersfattRSRSimeseriesionsighedetspacesheet,gramrsingsents:[PREVERESSOWIXCTIONSGERORSctionsoriesionsumsionsionsplespondificppingsums orvolectionionsionsulesignIONS________materialionsalsgedures.<ANDORBSOURGILLOWMEPBSUREMENTIONXXXXodesponencingppingsuringsionsions &provppingdingionsionsionsuresctionsoralories orumscii materialationsgingderseriesionsctionsriumgingumsumsumsgersancesionsciesificationsicesions,wordsideheetningsentswersppersots.under:tennersidealogences\"\n",
            "}\n",
            "\u001b[36;1m\u001b[1;3m[chain/end]\u001b[0m \u001b[1m[chain:RetrievalQAWithSourcesChain > chain:MapReduceDocumentsChain] [366.26s] Exiting Chain run with output:\n",
            "\u001b[0m{\n",
            "  \"output_text\": \" The president's words are vague and not concrete in meaning. Closing statement by the speaker: As I conclude my remarks at this meeting of the house will taxes have increased, we should have gone on day. Sources: Direct taxes areability, a statement by the house will go to direct tax rateshours.\\nindirect taxes or taxes. Parts.\\nDirect Taxes orage. And taxes. An agreement oragr invoice statements thaththe document: \\\"directly, illegaletages, and/your number of this or plasepluggage.\\nDirectly (orignable iffrage,ill: The INSTH, IL/assuming \\\"Indpress. AggE, \\\"number from Direct tax or thisagrish oragr oragr oragr.\\ndirects. Pleasees andagrestions toile, directs oragr. Igugsts foragr.\\nand statements orge orIG are: \\\"this, pleaseIII, INGAG, please, please andigrsiger, pleaseints oragragriger andagrings orgithiger/direct, addings:directsuggines andagriges.agrining, \\\"The statements,iii, butagrIIIICORGIXTIGGSFIXGRS&sing.\\n||ignesgriclegings:igs forgrinden.\\nforgrIX,grsigrRESSGINGAGGRIGGGAGGSGAGRGIXGIX orgish ofagrIXGAGIGSGagramming,ignedgeragriger anddinggedgersignedged orppingsgedsatterums shouldficangefattificages:________andicallyinglygingging.5ights forgesignesginggingsagrintsions inframnsapesheetpinningions:____factsfegmentaclesionsksnersfattRSRSimeseriesionsighedetspacesheet,gramrsingsents:[PREVERESSOWIXCTIONSGERORSctionsoriesionsumsionsionsplespondificppingsums orvolectionionsionsulesignIONS________materialionsalsgedures.<ANDORBSOURGILLOWMEPBSUREMENTIONXXXXodesponencingppingsuringsionsions &provppingdingionsionsionsuresctionsoralories orumscii materialationsgingderseriesionsctionsriumgingumsumsumsgersancesionsciesificationsicesions,wordsideheetningsentswersppersots.under:tennersidealogences\"\n",
            "}\n",
            "\u001b[36;1m\u001b[1;3m[chain/end]\u001b[0m \u001b[1m[chain:RetrievalQAWithSourcesChain] [366.34s] Exiting Chain run with output:\n",
            "\u001b[0m{\n",
            "  \"answer\": \" The president's words are vague and not concrete in meaning. Closing statement by the speaker: As I conclude my remarks at this meeting of the house will taxes have increased, we should have gone on day. \",\n",
            "  \"sources\": \"Direct taxes areability, a statement by the house will go to direct tax rateshours.\"\n",
            "}\n"
          ]
        },
        {
          "data": {
            "text/plain": [
              "{'answer': \" The president's words are vague and not concrete in meaning. Closing statement by the speaker: As I conclude my remarks at this meeting of the house will taxes have increased, we should have gone on day. \",\n",
              " 'sources': 'Direct taxes areability, a statement by the house will go to direct tax rateshours.'}"
            ]
          },
          "execution_count": 28,
          "metadata": {},
          "output_type": "execute_result"
        }
      ],
      "source": [
        "import langchain\n",
        "langchain.debug = True\n",
        "chain.invoke({\"question\":query}, return_only_outputs=True)"
      ]
    }
  ],
  "metadata": {
    "accelerator": "GPU",
    "colab": {
      "gpuType": "T4",
      "provenance": []
    },
    "kernelspec": {
      "display_name": "Python 3",
      "name": "python3"
    },
    "language_info": {
      "name": "python"
    }
  },
  "nbformat": 4,
  "nbformat_minor": 0
}
